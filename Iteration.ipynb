{
 "cells": [
  {
   "cell_type": "code",
   "execution_count": 1,
   "metadata": {},
   "outputs": [
    {
     "name": "stderr",
     "output_type": "stream",
     "text": [
      "/Users/tim/miniconda3/lib/python3.8/site-packages/tqdm/std.py:697: FutureWarning: The Panel class is removed from pandas. Accessing it from the top-level namespace will also be removed in the next version\n",
      "  from pandas import Panel\n"
     ]
    }
   ],
   "source": [
    "import psycopg2\n",
    "import pandas as pd\n",
    "import numpy as np\n",
    "\n",
    "from sqlalchemy import create_engine\n",
    "\n",
    "from tqdm.notebook import tqdm_notebook as tqdm\n",
    "from collections import OrderedDict\n",
    "\n",
    "import json\n",
    "import statistics\n",
    "\n",
    "import matplotlib.pyplot as plt\n",
    "\n",
    "from sklearn.ensemble import RandomForestRegressor\n",
    "\n",
    "import xgboost as xgb\n",
    "from xgboost import XGBClassifier\n",
    "from sklearn.model_selection import train_test_split\n",
    "from sklearn.preprocessing import MinMaxScaler\n",
    "from sklearn.metrics import accuracy_score, mean_absolute_error\n",
    "\n",
    "from matplotlib.pyplot import rcParams\n",
    "rcParams['figure.figsize'] = 12, 4\n",
    "\n",
    "import pickle\n",
    "\n",
    "%matplotlib inline\n",
    "\n",
    "tqdm.pandas()\n",
    "\n",
    "pd.options.display.max_columns = None"
   ]
  },
  {
   "cell_type": "code",
   "execution_count": 2,
   "metadata": {},
   "outputs": [],
   "source": [
    "with open('config.json') as file:\n",
    "    config = json.load(file)\n",
    "    host = config['host']\n",
    "    database = config['database']\n",
    "    user = config['user']\n",
    "    password = config['password']\n",
    "engine = create_engine(f'postgresql://{user}:{password}@{host}:5432/{database}')"
   ]
  },
  {
   "cell_type": "code",
   "execution_count": 3,
   "metadata": {},
   "outputs": [],
   "source": [
    "over_mae = pickle.load(open('over_mae.pickle', 'rb'))"
   ]
  },
  {
   "cell_type": "code",
   "execution_count": 13,
   "metadata": {},
   "outputs": [],
   "source": [
    "array_string = \"[\" + \",\".join(over_mae) + \"]\""
   ]
  },
  {
   "cell_type": "code",
   "execution_count": 20,
   "metadata": {},
   "outputs": [],
   "source": [
    "query = f\"\"\"\n",
    "select * from ms_diagnosis md\n",
    "where array [md.\"AdmtID\"] <@ array {array_string}\n",
    "\"\"\"\n",
    "\n",
    "diagnoses_inaccurate = pd.read_sql_query(query, engine)"
   ]
  },
  {
   "cell_type": "code",
   "execution_count": 18,
   "metadata": {},
   "outputs": [],
   "source": [
    "query = f\"\"\"\n",
    "select * from ms_diagnosis md\n",
    "where not array [md.\"AdmtID\"] <@ array {array_string}\n",
    "\"\"\"\n",
    "\n",
    "diagnoses_accurate = pd.read_sql_query(query, engine)"
   ]
  },
  {
   "cell_type": "code",
   "execution_count": 35,
   "metadata": {},
   "outputs": [],
   "source": [
    "set_inaccurate = set(diagnoses_inaccurate[\"DxDesc\"].value_counts()[:25].index)"
   ]
  },
  {
   "cell_type": "code",
   "execution_count": 36,
   "metadata": {},
   "outputs": [],
   "source": [
    "set_accurate = set(diagnoses_accurate[\"DxDesc\"].value_counts()[:25].index)"
   ]
  },
  {
   "cell_type": "code",
   "execution_count": 42,
   "metadata": {},
   "outputs": [],
   "source": [
    "inaccurate_uniques = set_inaccurate - set_accurate"
   ]
  },
  {
   "cell_type": "code",
   "execution_count": 43,
   "metadata": {},
   "outputs": [
    {
     "data": {
      "text/plain": [
       "{'Acidosis',\n",
       " 'Acute kidney failure, unspecified',\n",
       " 'Acute respiratory failure with hypoxia',\n",
       " 'Cataract extraction status, unspecified eye',\n",
       " 'Chronic kidney disease, stage 3 (moderate)',\n",
       " 'Disruption of external operation (surgical) wound, NEC, init',\n",
       " 'Do not resuscitate',\n",
       " 'Encephalopathy, unspecified',\n",
       " 'Exposure to other specified factors, initial encounter',\n",
       " 'Personal history of other venous thrombosis and embolism',\n",
       " 'Traum subdr hem w LOC of unsp duration, init',\n",
       " 'Type 2 diabetes mellitus w diabetic chronic kidney disease',\n",
       " 'Type 2 diabetes mellitus with hyperglycemia',\n",
       " 'Type 2 diabetes w diabetic peripheral angiopathy w gangrene'}"
      ]
     },
     "execution_count": 43,
     "metadata": {},
     "output_type": "execute_result"
    }
   ],
   "source": [
    "inaccurate_uniques"
   ]
  },
  {
   "cell_type": "code",
   "execution_count": null,
   "metadata": {},
   "outputs": [],
   "source": []
  }
 ],
 "metadata": {
  "kernelspec": {
   "display_name": "Python 3",
   "language": "python",
   "name": "python3"
  },
  "language_info": {
   "codemirror_mode": {
    "name": "ipython",
    "version": 3
   },
   "file_extension": ".py",
   "mimetype": "text/x-python",
   "name": "python",
   "nbconvert_exporter": "python",
   "pygments_lexer": "ipython3",
   "version": "3.8.2"
  }
 },
 "nbformat": 4,
 "nbformat_minor": 4
}
