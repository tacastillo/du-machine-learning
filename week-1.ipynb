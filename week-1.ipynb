{
 "cells": [
  {
   "cell_type": "code",
   "execution_count": 31,
   "metadata": {},
   "outputs": [],
   "source": [
    "import psycopg2\n",
    "import pandas as pd\n",
    "from sqlalchemy import create_engine\n",
    "\n",
    "import json\n",
    "\n",
    "import matplotlib.pyplot as plt\n",
    "%matplotlib inline  "
   ]
  },
  {
   "cell_type": "code",
   "execution_count": 4,
   "metadata": {},
   "outputs": [],
   "source": [
    "with open('config.json') as file:\n",
    "    config = json.load(file)\n",
    "    host = config['host']\n",
    "    database = config['database']\n",
    "    user = config['user']\n",
    "    password = config['password']"
   ]
  },
  {
   "cell_type": "code",
   "execution_count": 7,
   "metadata": {},
   "outputs": [],
   "source": [
    "engine = create_engine(f'postgresql://{user}:{password}@{host}:5432/{database}')"
   ]
  },
  {
   "cell_type": "code",
   "execution_count": 8,
   "metadata": {},
   "outputs": [],
   "source": [
    "diagnoses = pd.read_sql_table('ed_diagnoses', engine)"
   ]
  },
  {
   "cell_type": "code",
   "execution_count": 9,
   "metadata": {},
   "outputs": [
    {
     "data": {
      "text/html": [
       "<div>\n",
       "<style scoped>\n",
       "    .dataframe tbody tr th:only-of-type {\n",
       "        vertical-align: middle;\n",
       "    }\n",
       "\n",
       "    .dataframe tbody tr th {\n",
       "        vertical-align: top;\n",
       "    }\n",
       "\n",
       "    .dataframe thead th {\n",
       "        text-align: right;\n",
       "    }\n",
       "</style>\n",
       "<table border=\"1\" class=\"dataframe\">\n",
       "  <thead>\n",
       "    <tr style=\"text-align: right;\">\n",
       "      <th></th>\n",
       "      <th>index</th>\n",
       "      <th>HospID</th>\n",
       "      <th>PtID</th>\n",
       "      <th>AdmtID</th>\n",
       "      <th>DxSeq</th>\n",
       "      <th>Dx</th>\n",
       "      <th>DxDesc</th>\n",
       "      <th>DX_CodeType</th>\n",
       "      <th>Diag_Cycle_Code</th>\n",
       "      <th>Padmit</th>\n",
       "      <th>OrigDX</th>\n",
       "    </tr>\n",
       "  </thead>\n",
       "  <tbody>\n",
       "    <tr>\n",
       "      <th>0</th>\n",
       "      <td>0</td>\n",
       "      <td>31608</td>\n",
       "      <td>136474732</td>\n",
       "      <td>190679000162038116</td>\n",
       "      <td>8</td>\n",
       "      <td>Y92254</td>\n",
       "      <td>Theater (live) as place</td>\n",
       "      <td>10</td>\n",
       "      <td>F</td>\n",
       "      <td>N</td>\n",
       "      <td>Y92.254</td>\n",
       "    </tr>\n",
       "    <tr>\n",
       "      <th>1</th>\n",
       "      <td>1</td>\n",
       "      <td>27400</td>\n",
       "      <td>136977703</td>\n",
       "      <td>190259000159944083</td>\n",
       "      <td>1</td>\n",
       "      <td>Z3401</td>\n",
       "      <td>Encntr for suprvsn of normal first preg, first...</td>\n",
       "      <td>10</td>\n",
       "      <td>F</td>\n",
       "      <td>N</td>\n",
       "      <td>Z34.01</td>\n",
       "    </tr>\n",
       "    <tr>\n",
       "      <th>2</th>\n",
       "      <td>2</td>\n",
       "      <td>27300</td>\n",
       "      <td>137095813</td>\n",
       "      <td>190569000156954709</td>\n",
       "      <td>5</td>\n",
       "      <td>V635XXA</td>\n",
       "      <td>Driver of hv veh inj pick-up truck, pk-up/van ...</td>\n",
       "      <td>10</td>\n",
       "      <td>F</td>\n",
       "      <td>N</td>\n",
       "      <td>V63.5XXA</td>\n",
       "    </tr>\n",
       "    <tr>\n",
       "      <th>3</th>\n",
       "      <td>3</td>\n",
       "      <td>31608</td>\n",
       "      <td>135946367</td>\n",
       "      <td>190549000142925895</td>\n",
       "      <td>1</td>\n",
       "      <td>S96911A</td>\n",
       "      <td>Strain of unsp msl/tnd at ank/ft level, right ...</td>\n",
       "      <td>10</td>\n",
       "      <td>F</td>\n",
       "      <td>N</td>\n",
       "      <td>S96.911A</td>\n",
       "    </tr>\n",
       "    <tr>\n",
       "      <th>4</th>\n",
       "      <td>4</td>\n",
       "      <td>27150</td>\n",
       "      <td>136346359</td>\n",
       "      <td>190259000142830657</td>\n",
       "      <td>2</td>\n",
       "      <td>N9981</td>\n",
       "      <td>Other intraoperative complications of genitour...</td>\n",
       "      <td>10</td>\n",
       "      <td>F</td>\n",
       "      <td>N</td>\n",
       "      <td>N99.81</td>\n",
       "    </tr>\n",
       "  </tbody>\n",
       "</table>\n",
       "</div>"
      ],
      "text/plain": [
       "   index  HospID       PtID              AdmtID  DxSeq       Dx  \\\n",
       "0      0   31608  136474732  190679000162038116      8  Y92254    \n",
       "1      1   27400  136977703  190259000159944083      1  Z3401     \n",
       "2      2   27300  137095813  190569000156954709      5  V635XXA   \n",
       "3      3   31608  135946367  190549000142925895      1  S96911A   \n",
       "4      4   27150  136346359  190259000142830657      2  N9981     \n",
       "\n",
       "                                              DxDesc  DX_CodeType  \\\n",
       "0                            Theater (live) as place           10   \n",
       "1  Encntr for suprvsn of normal first preg, first...           10   \n",
       "2  Driver of hv veh inj pick-up truck, pk-up/van ...           10   \n",
       "3  Strain of unsp msl/tnd at ank/ft level, right ...           10   \n",
       "4  Other intraoperative complications of genitour...           10   \n",
       "\n",
       "  Diag_Cycle_Code Padmit    OrigDX  \n",
       "0               F      N   Y92.254  \n",
       "1               F      N    Z34.01  \n",
       "2               F      N  V63.5XXA  \n",
       "3               F      N  S96.911A  \n",
       "4               F      N    N99.81  "
      ]
     },
     "execution_count": 9,
     "metadata": {},
     "output_type": "execute_result"
    }
   ],
   "source": [
    "diagnoses.head()"
   ]
  },
  {
   "cell_type": "code",
   "execution_count": 13,
   "metadata": {},
   "outputs": [],
   "source": [
    "alcohol = diagnoses[diagnoses['OrigDX'].str.startswith('F10.')]"
   ]
  },
  {
   "cell_type": "code",
   "execution_count": 22,
   "metadata": {},
   "outputs": [
    {
     "data": {
      "text/plain": [
       "array(['Alcohol dependence w alcoh-induce psychotic disorder, unsp',\n",
       "       'Alcohol abuse, uncomplicated',\n",
       "       'Alcohol use, unspecified with intoxication, unspecified',\n",
       "       'Alcohol dependence w withdrawal with perceptual disturbance',\n",
       "       'Alcohol dependence with intoxication, uncomplicated',\n",
       "       'ALCOHOL ABUSE, IN REMISSION',\n",
       "       'Alcohol dependence with unspecified alcohol-induced disorder',\n",
       "       'Alcohol dependence with intoxication delirium',\n",
       "       'Alcohol dependence with intoxication, unspecified',\n",
       "       'Alcohol dependence with withdrawal, unspecified',\n",
       "       'Alcohol use, unsp w alcoh-induce psych disorder w hallucin',\n",
       "       'Alcohol use, unsp with alcohol-induced persisting dementia',\n",
       "       'Alcohol abuse with intoxication, unspecified',\n",
       "       'Alcohol dependence with withdrawal, uncomplicated',\n",
       "       'Alcohol dependence, in remission',\n",
       "       'Alcohol abuse with intoxication delirium',\n",
       "       'Alcohol use, unsp with unspecified alcohol-induced disorder',\n",
       "       'Alcohol dependence with withdrawal delirium',\n",
       "       'Alcohol use, unspecified with intoxication delirium',\n",
       "       'Alcohol dependence with alcohol-induced persisting dementia',\n",
       "       'Alcohol dependence, uncomplicated'], dtype=object)"
      ]
     },
     "execution_count": 22,
     "metadata": {},
     "output_type": "execute_result"
    }
   ],
   "source": [
    "alcohol['DxDesc'].unique()"
   ]
  },
  {
   "cell_type": "code",
   "execution_count": 18,
   "metadata": {},
   "outputs": [
    {
     "name": "stdout",
     "output_type": "stream",
     "text": [
      "Patients: 3208\n",
      "Diagnoses: 4316\n"
     ]
    }
   ],
   "source": [
    "pt_length = len(alcohol['PtID'].unique())\n",
    "dx_length = len(alcohol)\n",
    "\n",
    "print(f'Patients: {pt_length}\\nDiagnoses: {dx_length}')"
   ]
  },
  {
   "cell_type": "code",
   "execution_count": 19,
   "metadata": {},
   "outputs": [
    {
     "data": {
      "text/plain": [
       "136484003    22\n",
       "137094851    18\n",
       "138157666    15\n",
       "226275261    11\n",
       "219995077    10\n",
       "             ..\n",
       "137116749     1\n",
       "137114700     1\n",
       "136303688     1\n",
       "137172036     1\n",
       "138017102     1\n",
       "Name: PtID, Length: 3208, dtype: int64"
      ]
     },
     "execution_count": 19,
     "metadata": {},
     "output_type": "execute_result"
    }
   ],
   "source": [
    "alcohol['PtID'].value_counts()"
   ]
  },
  {
   "cell_type": "code",
   "execution_count": 33,
   "metadata": {},
   "outputs": [],
   "source": [
    "def generate_stats_by_icd_10_code(icd_10_base):\n",
    "    df = diagnoses[diagnoses['OrigDX'].str.startswith(icd_10_base)]\n",
    "    unique_descriptions = df['DxDesc'].unique()\n",
    "    pt_length = len(df['PtID'].unique())\n",
    "    dx_length = len(df)\n",
    "    frequencies_by_patient = df['PtID'].value_counts()\n",
    "    \n",
    "    print(unique_descriptions)\n",
    "    \n",
    "    plt.hist(frequencies_by_patient)\n",
    "    plt.show()\n",
    "    \n",
    "    return df"
   ]
  },
  {
   "cell_type": "code",
   "execution_count": 35,
   "metadata": {},
   "outputs": [
    {
     "name": "stdout",
     "output_type": "stream",
     "text": [
      "['Opioid dependence with withdrawal'\n",
      " 'Opioid abuse with opioid-induced psychotic disorder, unsp'\n",
      " 'Opioid abuse with intoxication delirium' 'OPIOID ABUSE, IN REMISSION'\n",
      " 'Opioid dependence, in remission'\n",
      " 'Opioid abuse with intoxication, unspecified'\n",
      " 'Opioid dependence, uncomplicated'\n",
      " 'Opioid use, unspecified, uncomplicated' 'Opioid abuse, uncomplicated']\n"
     ]
    },
    {
     "data": {
      "image/png": "[encoded data removed]",
      "text/plain": [
       "<Figure size 432x288 with 1 Axes>"
      ]
     },
     "metadata": {
      "needs_background": "light"
     },
     "output_type": "display_data"
    }
   ],
   "source": [
    "opioids = generate_stats_by_icd_10_code('F11.')"
   ]
  },
  {
   "cell_type": "code",
   "execution_count": 36,
   "metadata": {},
   "outputs": [
    {
     "name": "stdout",
     "output_type": "stream",
     "text": [
      "['Nicotine dependence, other tobacco product, uncomplicated'\n",
      " 'Nicotine dependence, chewing tobacco, uncomplicated'\n",
      " 'Nicotine dependence, cigarettes, uncomplicated'\n",
      " 'Nicotine dependence, unspecified, uncomplicated'\n",
      " 'Nicotine dependence unspecified, with withdrawal'\n",
      " 'Nicotine dependence, cigarettes, with withdrawal']\n"
     ]
    },
    {
     "data": {
      "image/png": "[encoded data removed]",
      "text/plain": [
       "<Figure size 432x288 with 1 Axes>"
      ]
     },
     "metadata": {
      "needs_background": "light"
     },
     "output_type": "display_data"
    }
   ],
   "source": [
    "nicotine = generate_stats_by_icd_10_code('F17.')"
   ]
  },
  {
   "cell_type": "code",
   "execution_count": 37,
   "metadata": {},
   "outputs": [
    {
     "name": "stdout",
     "output_type": "stream",
     "text": [
      "['Cannabis use, unsp with unsp cannabis-induced disorder'\n",
      " 'Cannabis use, unspecified with intoxication delirium'\n",
      " 'Cannabis use, unspecified with intoxication, unspecified'\n",
      " 'Cannabis abuse with other cannabis-induced disorder'\n",
      " 'Cannabis abuse, uncomplicated' 'Cannabis dependence, uncomplicated'\n",
      " 'Cannabis use, unspecified, uncomplicated'\n",
      " 'Cannabis use, unsp with psychotic disorder, unspecified'\n",
      " 'Cannabis abuse with intoxication, unspecified'\n",
      " 'Cannabis dependence with unsp cannabis-induced disorder'\n",
      " 'Cannabis abuse with cannabis-induced anxiety disorder'\n",
      " 'Cannabis abuse with unspecified cannabis-induced disorder'\n",
      " 'Cannabis use, unsp with other cannabis-induced disorder'\n",
      " 'Cannabis abuse with psychotic disorder, unspecified'\n",
      " 'CANNABIS ABUSE, IN REMISSION'\n",
      " 'Cannabis dependence with other cannabis-induced disorder']\n"
     ]
    },
    {
     "data": {
      "image/png": "[encoded data removed]",
      "text/plain": [
       "<Figure size 432x288 with 1 Axes>"
      ]
     },
     "metadata": {
      "needs_background": "light"
     },
     "output_type": "display_data"
    }
   ],
   "source": [
    "cannabias = generate_stats_by_icd_10_code('F12.')"
   ]
  },
  {
   "cell_type": "markdown",
   "metadata": {},
   "source": [
    "# Project Ideas\n",
    "1. Predicting Nicotine/Alcohol/Opioid/Cannabis Use Disorder\n",
    "1. Predicting Addiction Relapse\n",
    "2. Predicting Hospice Care\n",
    "3. Risk Assessment for Alcohol Withdrawal Syndrome\n",
    "4. Risk of Complication in Surgery\n",
    "5. Predict Unplanned Surgeries\n",
    "6. Predicting Length of Stay"
   ]
  },
  {
   "cell_type": "code",
   "execution_count": null,
   "metadata": {},
   "outputs": [],
   "source": []
  }
 ],
 "metadata": {
  "kernelspec": {
   "display_name": "Python 3",
   "language": "python",
   "name": "python3"
  },
  "language_info": {
   "codemirror_mode": {
    "name": "ipython",
    "version": 3
   },
   "file_extension": ".py",
   "mimetype": "text/x-python",
   "name": "python",
   "nbconvert_exporter": "python",
   "pygments_lexer": "ipython3",
   "version": "3.8.3"
  }
 },
 "nbformat": 4,
 "nbformat_minor": 4
}
