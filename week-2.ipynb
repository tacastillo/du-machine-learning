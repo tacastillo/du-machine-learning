{
 "cells": [
  {
   "cell_type": "markdown",
   "metadata": {},
   "source": [
    "# Ideas\n",
    "0. ~Predicting UTIs~\n",
    "1. ~[Predicting re-admission](https://jamanetwork.com/journals/jama/fullarticle/1104511) 🙅🏻‍♂️ (Only Admit Year is provided)~\n",
    "2. Predicting length of stay [[1]](https://www.hindawi.com/journals/jhe/2016/7035463/tab3/) [[2]](https://towardsdatascience.com/predicting-hospital-length-of-stay-at-time-of-admission-55dfdfe69598)\n",
    "3. ~Predicting opioid use disorders based on post-surgery opioid prescriptions~"
   ]
  },
  {
   "cell_type": "markdown",
   "metadata": {},
   "source": [
    "# Features to Experiment With\n",
    "* Encounter\n",
    "    * HospID\n",
    "    * Payer_Type\n",
    "* Demographics\n",
    "    * Sex\n",
    "    * Race1\n",
    "* Diagnoses\n",
    "    * I10      Essential (primary) hypertension - 3336\n",
    "    * E78.5    Hyperlipidemia, unspecified - 3194\n",
    "    * E11.9    Type 2 diabetes mellitus without complications - 963\n",
    "    * I25.10   Athscl heart disease of native coronary artery w/o ang pctrs - 1439\n",
    "    * J44.9    Chronic obstructive pulmonary disease, unspecified - 818\n",
    "    * I12.9    Hypertensive chronic kidney disease w stg 1-4/unsp chr kdny - 560\n",
    "    * Y83.8    Oth surgical procedures cause abn react/compl, w/o misadvnt - 492\n",
    "    * A41.9    Sepsis, unspecified organism - 480"
   ]
  },
  {
   "cell_type": "code",
   "execution_count": 1,
   "metadata": {},
   "outputs": [],
   "source": [
    "import psycopg2\n",
    "import pandas as pd\n",
    "import numpy as np\n",
    "from sqlalchemy import create_engine\n",
    "\n",
    "import json\n",
    "\n",
    "import matplotlib.pyplot as plt\n",
    "%matplotlib inline  "
   ]
  },
  {
   "cell_type": "code",
   "execution_count": 2,
   "metadata": {},
   "outputs": [],
   "source": [
    "with open('config.json') as file:\n",
    "    config = json.load(file)\n",
    "    host = config['host']\n",
    "    database = config['database']\n",
    "    user = config['user']\n",
    "    password = config['password']"
   ]
  },
  {
   "cell_type": "code",
   "execution_count": 3,
   "metadata": {},
   "outputs": [],
   "source": [
    "engine = create_engine(f'postgresql://{user}:{password}@{host}:5432/{database}')"
   ]
  },
  {
   "cell_type": "code",
   "execution_count": 14,
   "metadata": {},
   "outputs": [],
   "source": [
    "query = \"\"\"\n",
    "SELECT * FROM ms_encounters WHERE \"EncType\"='I'\n",
    "\"\"\"\n",
    "\n",
    "inpatient_encounters = pd.read_sql_query(query, engine)"
   ]
  },
  {
   "cell_type": "code",
   "execution_count": 16,
   "metadata": {},
   "outputs": [
    {
     "data": {
      "text/html": [
       "<div>\n",
       "<style scoped>\n",
       "    .dataframe tbody tr th:only-of-type {\n",
       "        vertical-align: middle;\n",
       "    }\n",
       "\n",
       "    .dataframe tbody tr th {\n",
       "        vertical-align: top;\n",
       "    }\n",
       "\n",
       "    .dataframe thead th {\n",
       "        text-align: right;\n",
       "    }\n",
       "</style>\n",
       "<table border=\"1\" class=\"dataframe\">\n",
       "  <thead>\n",
       "    <tr style=\"text-align: right;\">\n",
       "      <th></th>\n",
       "      <th>index</th>\n",
       "      <th>HospID</th>\n",
       "      <th>PtID</th>\n",
       "      <th>AdmtID</th>\n",
       "      <th>Admit_Year</th>\n",
       "      <th>Rel_Discharge_Day</th>\n",
       "      <th>Reason_For_Visit_Txt</th>\n",
       "      <th>Pat_ZIP_Masked</th>\n",
       "      <th>EncType</th>\n",
       "      <th>DRG</th>\n",
       "      <th>DRG_Type</th>\n",
       "      <th>HCA_Adm_Src</th>\n",
       "      <th>HCA_Adm_Class</th>\n",
       "      <th>HCA_Disch_Dispo</th>\n",
       "      <th>HCA_Disch_Dispo_Desc</th>\n",
       "      <th>Age_Years</th>\n",
       "      <th>Payer_Type</th>\n",
       "    </tr>\n",
       "  </thead>\n",
       "  <tbody>\n",
       "    <tr>\n",
       "      <th>0</th>\n",
       "      <td>1</td>\n",
       "      <td>27400</td>\n",
       "      <td>137172158</td>\n",
       "      <td>190599000401972101</td>\n",
       "      <td>2019</td>\n",
       "      <td>7</td>\n",
       "      <td>WOUND INFECTION LEFT LEG</td>\n",
       "      <td>800</td>\n",
       "      <td>I</td>\n",
       "      <td>478</td>\n",
       "      <td>10</td>\n",
       "      <td>1</td>\n",
       "      <td>A</td>\n",
       "      <td>6</td>\n",
       "      <td>Discharged/transferred to Home Under Care of O...</td>\n",
       "      <td>60</td>\n",
       "      <td>BLUE CROSS/COST</td>\n",
       "    </tr>\n",
       "    <tr>\n",
       "      <th>1</th>\n",
       "      <td>4</td>\n",
       "      <td>27300</td>\n",
       "      <td>137094979</td>\n",
       "      <td>190459000158965684</td>\n",
       "      <td>2019</td>\n",
       "      <td>2</td>\n",
       "      <td>DEVERTICULITIS</td>\n",
       "      <td>802</td>\n",
       "      <td>I</td>\n",
       "      <td>331</td>\n",
       "      <td>10</td>\n",
       "      <td>1</td>\n",
       "      <td>A</td>\n",
       "      <td>1</td>\n",
       "      <td>Discharged to Home or Self Care (Routine Disch...</td>\n",
       "      <td>69</td>\n",
       "      <td>MANAGED CARE MEDICARE</td>\n",
       "    </tr>\n",
       "    <tr>\n",
       "      <th>2</th>\n",
       "      <td>6</td>\n",
       "      <td>27450</td>\n",
       "      <td>226440736</td>\n",
       "      <td>190469000186984828</td>\n",
       "      <td>2019</td>\n",
       "      <td>5</td>\n",
       "      <td>PNEUMOTHORAX</td>\n",
       "      <td>802</td>\n",
       "      <td>I</td>\n",
       "      <td>243</td>\n",
       "      <td>10</td>\n",
       "      <td>1</td>\n",
       "      <td>A</td>\n",
       "      <td>1</td>\n",
       "      <td>Discharged to Home or Self Care (Routine Disch...</td>\n",
       "      <td>999</td>\n",
       "      <td>MEDICARE - PPS</td>\n",
       "    </tr>\n",
       "    <tr>\n",
       "      <th>3</th>\n",
       "      <td>7</td>\n",
       "      <td>27400</td>\n",
       "      <td>136514109</td>\n",
       "      <td>190089000208952415</td>\n",
       "      <td>2019</td>\n",
       "      <td>3</td>\n",
       "      <td>THROMBECTOMY</td>\n",
       "      <td>800</td>\n",
       "      <td>I</td>\n",
       "      <td>253</td>\n",
       "      <td>10</td>\n",
       "      <td>1</td>\n",
       "      <td>A</td>\n",
       "      <td>1</td>\n",
       "      <td>Discharged to Home or Self Care (Routine Disch...</td>\n",
       "      <td>64</td>\n",
       "      <td>PPO</td>\n",
       "    </tr>\n",
       "    <tr>\n",
       "      <th>4</th>\n",
       "      <td>8</td>\n",
       "      <td>27100</td>\n",
       "      <td>138268613</td>\n",
       "      <td>190499000159892880</td>\n",
       "      <td>2019</td>\n",
       "      <td>43</td>\n",
       "      <td>18% TBSA BURNS TO RT THIGH,LOWERGROIN,LTFOOT,BUTT</td>\n",
       "      <td>800</td>\n",
       "      <td>I</td>\n",
       "      <td>928</td>\n",
       "      <td>10</td>\n",
       "      <td>1</td>\n",
       "      <td>A</td>\n",
       "      <td>62</td>\n",
       "      <td>Discharged/transferred to an Inpatient Rehabil...</td>\n",
       "      <td>50</td>\n",
       "      <td>MEDICARE - PPS</td>\n",
       "    </tr>\n",
       "  </tbody>\n",
       "</table>\n",
       "</div>"
      ],
      "text/plain": [
       "   index  HospID       PtID              AdmtID  Admit_Year  \\\n",
       "0      1   27400  137172158  190599000401972101        2019   \n",
       "1      4   27300  137094979  190459000158965684        2019   \n",
       "2      6   27450  226440736  190469000186984828        2019   \n",
       "3      7   27400  136514109  190089000208952415        2019   \n",
       "4      8   27100  138268613  190499000159892880        2019   \n",
       "\n",
       "   Rel_Discharge_Day                               Reason_For_Visit_Txt  \\\n",
       "0                  7                           WOUND INFECTION LEFT LEG   \n",
       "1                  2                                     DEVERTICULITIS   \n",
       "2                  5                                       PNEUMOTHORAX   \n",
       "3                  3                                       THROMBECTOMY   \n",
       "4                 43  18% TBSA BURNS TO RT THIGH,LOWERGROIN,LTFOOT,BUTT   \n",
       "\n",
       "  Pat_ZIP_Masked EncType    DRG DRG_Type HCA_Adm_Src HCA_Adm_Class  \\\n",
       "0            800       I  478         10         1               A   \n",
       "1            802       I  331         10         1               A   \n",
       "2            802       I  243         10         1               A   \n",
       "3            800       I  253         10         1               A   \n",
       "4            800       I  928         10         1               A   \n",
       "\n",
       "   HCA_Disch_Dispo                               HCA_Disch_Dispo_Desc  \\\n",
       "0                6  Discharged/transferred to Home Under Care of O...   \n",
       "1                1  Discharged to Home or Self Care (Routine Disch...   \n",
       "2                1  Discharged to Home or Self Care (Routine Disch...   \n",
       "3                1  Discharged to Home or Self Care (Routine Disch...   \n",
       "4               62  Discharged/transferred to an Inpatient Rehabil...   \n",
       "\n",
       "   Age_Years             Payer_Type  \n",
       "0         60        BLUE CROSS/COST  \n",
       "1         69  MANAGED CARE MEDICARE  \n",
       "2        999         MEDICARE - PPS  \n",
       "3         64                    PPO  \n",
       "4         50         MEDICARE - PPS  "
      ]
     },
     "execution_count": 16,
     "metadata": {},
     "output_type": "execute_result"
    }
   ],
   "source": [
    "inpatient_encounters.head()"
   ]
  },
  {
   "cell_type": "code",
   "execution_count": 17,
   "metadata": {},
   "outputs": [],
   "source": [
    "query = \"\"\"\n",
    "SELECT \"Rel_Discharge_Day\" FROM ms_encounters WHERE \"EncType\"='I'\n",
    "\"\"\"\n",
    "\n",
    "hist_los = pd.read_sql_query(query, engine)"
   ]
  },
  {
   "cell_type": "code",
   "execution_count": 22,
   "metadata": {},
   "outputs": [
    {
     "data": {
      "text/plain": [
       "(array([9.739e+03, 6.800e+01, 1.000e+01, 7.000e+00, 0.000e+00, 0.000e+00,\n",
       "        0.000e+00, 0.000e+00, 1.000e+00, 1.000e+00]),\n",
       " array([  0. ,  45.2,  90.4, 135.6, 180.8, 226. , 271.2, 316.4, 361.6,\n",
       "        406.8, 452. ]),\n",
       " <a list of 10 Patch objects>)"
      ]
     },
     "execution_count": 22,
     "metadata": {},
     "output_type": "execute_result"
    },
    {
     "data": {
      "image/png": "[encoded data removed]",
      "text/plain": [
       "<Figure size 432x288 with 1 Axes>"
      ]
     },
     "metadata": {
      "needs_background": "light"
     },
     "output_type": "display_data"
    }
   ],
   "source": [
    "plt.hist(hist_los['Rel_Discharge_Day'])"
   ]
  },
  {
   "cell_type": "code",
   "execution_count": 24,
   "metadata": {},
   "outputs": [
    {
     "data": {
      "text/plain": [
       "(array([9.296e+03, 3.560e+02, 1.010e+02, 3.000e+01, 1.800e+01, 1.100e+01,\n",
       "        5.000e+00, 0.000e+00, 3.000e+00, 4.000e+00]),\n",
       " array([  0. ,  16.8,  33.6,  50.4,  67.2,  84. , 100.8, 117.6, 134.4,\n",
       "        151.2, 168. ]),\n",
       " <a list of 10 Patch objects>)"
      ]
     },
     "execution_count": 24,
     "metadata": {},
     "output_type": "execute_result"
    },
    {
     "data": {
      "image/png": "[encoded data removed]",
      "text/plain": [
       "<Figure size 432x288 with 1 Axes>"
      ]
     },
     "metadata": {
      "needs_background": "light"
     },
     "output_type": "display_data"
    }
   ],
   "source": [
    "plt.hist(hist_los[hist_los['Rel_Discharge_Day'] < 300]['Rel_Discharge_Day'])"
   ]
  },
  {
   "cell_type": "code",
   "execution_count": 59,
   "metadata": {},
   "outputs": [
    {
     "data": {
      "text/html": [
       "<div>\n",
       "<style scoped>\n",
       "    .dataframe tbody tr th:only-of-type {\n",
       "        vertical-align: middle;\n",
       "    }\n",
       "\n",
       "    .dataframe tbody tr th {\n",
       "        vertical-align: top;\n",
       "    }\n",
       "\n",
       "    .dataframe thead th {\n",
       "        text-align: right;\n",
       "    }\n",
       "</style>\n",
       "<table border=\"1\" class=\"dataframe\">\n",
       "  <thead>\n",
       "    <tr style=\"text-align: right;\">\n",
       "      <th></th>\n",
       "      <th>Length of Stay</th>\n",
       "      <th>count</th>\n",
       "    </tr>\n",
       "  </thead>\n",
       "  <tbody>\n",
       "    <tr>\n",
       "      <th>15</th>\n",
       "      <td>0</td>\n",
       "      <td>238</td>\n",
       "    </tr>\n",
       "    <tr>\n",
       "      <th>95</th>\n",
       "      <td>1</td>\n",
       "      <td>1872</td>\n",
       "    </tr>\n",
       "    <tr>\n",
       "      <th>46</th>\n",
       "      <td>2</td>\n",
       "      <td>1856</td>\n",
       "    </tr>\n",
       "    <tr>\n",
       "      <th>89</th>\n",
       "      <td>3</td>\n",
       "      <td>1659</td>\n",
       "    </tr>\n",
       "    <tr>\n",
       "      <th>12</th>\n",
       "      <td>4</td>\n",
       "      <td>985</td>\n",
       "    </tr>\n",
       "    <tr>\n",
       "      <th>...</th>\n",
       "      <td>...</td>\n",
       "      <td>...</td>\n",
       "    </tr>\n",
       "    <tr>\n",
       "      <th>81</th>\n",
       "      <td>159</td>\n",
       "      <td>1</td>\n",
       "    </tr>\n",
       "    <tr>\n",
       "      <th>50</th>\n",
       "      <td>166</td>\n",
       "      <td>1</td>\n",
       "    </tr>\n",
       "    <tr>\n",
       "      <th>31</th>\n",
       "      <td>168</td>\n",
       "      <td>1</td>\n",
       "    </tr>\n",
       "    <tr>\n",
       "      <th>60</th>\n",
       "      <td>365</td>\n",
       "      <td>1</td>\n",
       "    </tr>\n",
       "    <tr>\n",
       "      <th>48</th>\n",
       "      <td>452</td>\n",
       "      <td>1</td>\n",
       "    </tr>\n",
       "  </tbody>\n",
       "</table>\n",
       "<p>100 rows × 2 columns</p>\n",
       "</div>"
      ],
      "text/plain": [
       "    Length of Stay  count\n",
       "15               0    238\n",
       "95               1   1872\n",
       "46               2   1856\n",
       "89               3   1659\n",
       "12               4    985\n",
       "..             ...    ...\n",
       "81             159      1\n",
       "50             166      1\n",
       "31             168      1\n",
       "60             365      1\n",
       "48             452      1\n",
       "\n",
       "[100 rows x 2 columns]"
      ]
     },
     "execution_count": 59,
     "metadata": {},
     "output_type": "execute_result"
    }
   ],
   "source": [
    "query = \"\"\"\n",
    "SELECT \"Rel_Discharge_Day\" as \"Length of Stay\", COUNT(\"Rel_Discharge_Day\") AS Count\n",
    "FROM ms_encounters\n",
    "WHERE \"EncType\"='I'\n",
    "GROUP BY \"Rel_Discharge_Day\"\n",
    "\"\"\"\n",
    "\n",
    "length_of_stay = pd.read_sql_query(query, engine)\n",
    "length_of_stay.sort_values('Length of Stay')"
   ]
  },
  {
   "cell_type": "code",
   "execution_count": 28,
   "metadata": {},
   "outputs": [
    {
     "data": {
      "text/plain": [
       "(array([ 238., 1872., 1856., 1659.,  985.,  626.,  487.,  369.,  277.,\n",
       "         236.]),\n",
       " array([0. , 0.9, 1.8, 2.7, 3.6, 4.5, 5.4, 6.3, 7.2, 8.1, 9. ]),\n",
       " <a list of 10 Patch objects>)"
      ]
     },
     "execution_count": 28,
     "metadata": {},
     "output_type": "execute_result"
    },
    {
     "data": {
      "image/png": "[encoded data removed]",
      "text/plain": [
       "<Figure size 432x288 with 1 Axes>"
      ]
     },
     "metadata": {
      "needs_background": "light"
     },
     "output_type": "display_data"
    }
   ],
   "source": [
    "plt.hist(hist_los[hist_los['Rel_Discharge_Day'] < 10]['Rel_Discharge_Day'], 10)"
   ]
  },
  {
   "cell_type": "code",
   "execution_count": 60,
   "metadata": {},
   "outputs": [],
   "source": [
    "query = \"\"\"\n",
    "SELECT enc.\"PtID\", enc.\"HospID\", enc.\"Rel_Discharge_Day\", demo.\"Sex\", demo.\"Race1\"\n",
    "FROM ms_encounters AS enc\n",
    "INNER JOIN ms_demographicss as demo\n",
    "ON enc.\"AdmtID\"=demo.\"AdmtID\"\n",
    "where enc.\"EncType\" = 'I'\n",
    "\"\"\"\n",
    "\n",
    "demographics = pd.read_sql_query(query, engine)"
   ]
  },
  {
   "cell_type": "code",
   "execution_count": 61,
   "metadata": {},
   "outputs": [
    {
     "data": {
      "text/html": [
       "<div>\n",
       "<style scoped>\n",
       "    .dataframe tbody tr th:only-of-type {\n",
       "        vertical-align: middle;\n",
       "    }\n",
       "\n",
       "    .dataframe tbody tr th {\n",
       "        vertical-align: top;\n",
       "    }\n",
       "\n",
       "    .dataframe thead th {\n",
       "        text-align: right;\n",
       "    }\n",
       "</style>\n",
       "<table border=\"1\" class=\"dataframe\">\n",
       "  <thead>\n",
       "    <tr style=\"text-align: right;\">\n",
       "      <th></th>\n",
       "      <th>PtID</th>\n",
       "      <th>HospID</th>\n",
       "      <th>Rel_Discharge_Day</th>\n",
       "      <th>Sex</th>\n",
       "      <th>Race1</th>\n",
       "    </tr>\n",
       "  </thead>\n",
       "  <tbody>\n",
       "    <tr>\n",
       "      <th>0</th>\n",
       "      <td>136345589</td>\n",
       "      <td>27150</td>\n",
       "      <td>1</td>\n",
       "      <td>M</td>\n",
       "      <td>W</td>\n",
       "    </tr>\n",
       "    <tr>\n",
       "      <th>1</th>\n",
       "      <td>136918267</td>\n",
       "      <td>27100</td>\n",
       "      <td>3</td>\n",
       "      <td>F</td>\n",
       "      <td>W</td>\n",
       "    </tr>\n",
       "    <tr>\n",
       "      <th>2</th>\n",
       "      <td>136344460</td>\n",
       "      <td>27150</td>\n",
       "      <td>2</td>\n",
       "      <td>M</td>\n",
       "      <td>W</td>\n",
       "    </tr>\n",
       "    <tr>\n",
       "      <th>3</th>\n",
       "      <td>136354795</td>\n",
       "      <td>31608</td>\n",
       "      <td>4</td>\n",
       "      <td>F</td>\n",
       "      <td>W</td>\n",
       "    </tr>\n",
       "    <tr>\n",
       "      <th>4</th>\n",
       "      <td>136893443</td>\n",
       "      <td>27300</td>\n",
       "      <td>3</td>\n",
       "      <td>F</td>\n",
       "      <td>W</td>\n",
       "    </tr>\n",
       "  </tbody>\n",
       "</table>\n",
       "</div>"
      ],
      "text/plain": [
       "        PtID  HospID  Rel_Discharge_Day Sex Race1\n",
       "0  136345589   27150                  1   M     W\n",
       "1  136918267   27100                  3   F     W\n",
       "2  136344460   27150                  2   M     W\n",
       "3  136354795   31608                  4   F     W\n",
       "4  136893443   27300                  3   F     W"
      ]
     },
     "execution_count": 61,
     "metadata": {},
     "output_type": "execute_result"
    }
   ],
   "source": [
    "demographics.head()"
   ]
  },
  {
   "cell_type": "code",
   "execution_count": 62,
   "metadata": {},
   "outputs": [
    {
     "data": {
      "text/plain": [
       "(array([ 257., 6223., 1426.,    0.,    0.,    0.,    0.,    0.,    0.,\n",
       "        1922.]),\n",
       " array([26330. , 26857.8, 27385.6, 27913.4, 28441.2, 28969. , 29496.8,\n",
       "        30024.6, 30552.4, 31080.2, 31608. ]),\n",
       " <a list of 10 Patch objects>)"
      ]
     },
     "execution_count": 62,
     "metadata": {},
     "output_type": "execute_result"
    },
    {
     "data": {
      "image/png": "[encoded data removed]",
      "text/plain": [
       "<Figure size 432x288 with 1 Axes>"
      ]
     },
     "metadata": {
      "needs_background": "light"
     },
     "output_type": "display_data"
    }
   ],
   "source": [
    "plt.hist(demographics['HospID'])"
   ]
  },
  {
   "cell_type": "code",
   "execution_count": 63,
   "metadata": {},
   "outputs": [
    {
     "data": {
      "text/plain": [
       "(array([4.168e+03, 0.000e+00, 0.000e+00, 0.000e+00, 0.000e+00, 5.656e+03,\n",
       "        0.000e+00, 0.000e+00, 0.000e+00, 4.000e+00]),\n",
       " array([0. , 0.2, 0.4, 0.6, 0.8, 1. , 1.2, 1.4, 1.6, 1.8, 2. ]),\n",
       " <a list of 10 Patch objects>)"
      ]
     },
     "execution_count": 63,
     "metadata": {},
     "output_type": "execute_result"
    },
    {
     "data": {
      "image/png": "[encoded data removed]",
      "text/plain": [
       "<Figure size 432x288 with 1 Axes>"
      ]
     },
     "metadata": {
      "needs_background": "light"
     },
     "output_type": "display_data"
    }
   ],
   "source": [
    "plt.hist(demographics['Sex'])"
   ]
  },
  {
   "cell_type": "code",
   "execution_count": 64,
   "metadata": {},
   "outputs": [
    {
     "data": {
      "text/plain": [
       "(array([7875.,  198.,  907.,    0.,  158.,  586.,    0.,   12.,   40.,\n",
       "          52.]),\n",
       " array([0. , 0.7, 1.4, 2.1, 2.8, 3.5, 4.2, 4.9, 5.6, 6.3, 7. ]),\n",
       " <a list of 10 Patch objects>)"
      ]
     },
     "execution_count": 64,
     "metadata": {},
     "output_type": "execute_result"
    },
    {
     "data": {
      "image/png": "[encoded data removed]",
      "text/plain": [
       "<Figure size 432x288 with 1 Axes>"
      ]
     },
     "metadata": {
      "needs_background": "light"
     },
     "output_type": "display_data"
    }
   ],
   "source": [
    "plt.hist(demographics['Race1'])"
   ]
  },
  {
   "cell_type": "code",
   "execution_count": 66,
   "metadata": {},
   "outputs": [
    {
     "data": {
      "text/plain": [
       "(array([2574., 3923.,   90., 2195.,   10.,  147.,  281.,  287.,  168.,\n",
       "         151.]),\n",
       " array([ 0. ,  1.6,  3.2,  4.8,  6.4,  8. ,  9.6, 11.2, 12.8, 14.4, 16. ]),\n",
       " <a list of 10 Patch objects>)"
      ]
     },
     "execution_count": 66,
     "metadata": {},
     "output_type": "execute_result"
    },
    {
     "data": {
      "image/png": "[encoded data removed]",
      "text/plain": [
       "<Figure size 432x288 with 1 Axes>"
      ]
     },
     "metadata": {
      "needs_background": "light"
     },
     "output_type": "display_data"
    }
   ],
   "source": [
    "plt.hist(inpatient_encounters['Payer_Type'])"
   ]
  },
  {
   "cell_type": "code",
   "execution_count": 74,
   "metadata": {},
   "outputs": [],
   "source": [
    "query = \"\"\"\n",
    "select dx.\"OrigDX\", dx.\"DxDesc\" \n",
    "from ms_encounters as enc\n",
    "inner join ms_diagnosis as dx\n",
    "on enc.\"AdmtID\" = dx.\"AdmtID\" \n",
    "where enc.\"EncType\" ='I'\n",
    "and dx.\"Padmit\" = 'Y'\n",
    "\"\"\"\n",
    "\n",
    "diagnoses = pd.read_sql_query(query, engine)"
   ]
  },
  {
   "cell_type": "code",
   "execution_count": 77,
   "metadata": {
    "scrolled": true
   },
   "outputs": [
    {
     "data": {
      "text/plain": [
       "OrigDX    DxDesc                                                      \n",
       "I10       Essential (primary) hypertension                                3336\n",
       "E78.5     Hyperlipidemia, unspecified                                     3194\n",
       "K21.9     Gastro-esophageal reflux disease without esophagitis            2513\n",
       "F32.9     Major depressive disorder, single episode, unspecified          1921\n",
       "E03.9     Hypothyroidism, unspecified                                     1647\n",
       "F41.9     Anxiety disorder, unspecified                                   1605\n",
       "I25.10    Athscl heart disease of native coronary artery w/o ang pctrs    1439\n",
       "G47.33    Obstructive sleep apnea (adult) (pediatric)                     1283\n",
       "G89.29    Other chronic pain                                              1197\n",
       "N17.9     Acute kidney failure, unspecified                               1172\n",
       "D64.9     Anemia, unspecified                                             1079\n",
       "M19.90    Unspecified osteoarthritis, unspecified site                    1018\n",
       "E11.9     Type 2 diabetes mellitus without complications                   963\n",
       "E87.6     Hypokalemia                                                      955\n",
       "E66.9     Obesity, unspecified                                             932\n",
       "D72.829   Elevated white blood cell count, unspecified                     880\n",
       "D62       Acute posthemorrhagic anemia                                     877\n",
       "J44.9     Chronic obstructive pulmonary disease, unspecified               818\n",
       "F17.210   Nicotine dependence, cigarettes, uncomplicated                   796\n",
       "J45.909   Unspecified asthma, uncomplicated                                776\n",
       "E66.01    Morbid (severe) obesity due to excess calories                   726\n",
       "E87.1     Hypo-osmolality and hyponatremia                                 718\n",
       "K59.00    Constipation, unspecified                                        641\n",
       "I48.91    Unspecified atrial fibrillation                                  633\n",
       "F17.200   Nicotine dependence, unspecified, uncomplicated                  581\n",
       "E86.0     Dehydration                                                      568\n",
       "I12.9     Hypertensive chronic kidney disease w stg 1-4/unsp chr kdny      560\n",
       "I95.9     Hypotension, unspecified                                         559\n",
       "N40.0     BENIGN PROSTATIC HYPERPLASIA WITHOUT LOWER URINRY TRACT SYMP     549\n",
       "G47.00    Insomnia, unspecified                                            545\n",
       "E87.2     Acidosis                                                         536\n",
       "D69.6     Thrombocytopenia, unspecified                                    534\n",
       "I11.0     Hypertensive heart disease with heart failure                    518\n",
       "J96.01    Acute respiratory failure with hypoxia                           511\n",
       "M54.9     Dorsalgia, unspecified                                           510\n",
       "N18.3     Chronic kidney disease, stage 3 (moderate)                       506\n",
       "Y83.8     Oth surgical procedures cause abn react/compl, w/o misadvnt      492\n",
       "E11.22    Type 2 diabetes mellitus w diabetic chronic kidney disease       481\n",
       "A41.9     Sepsis, unspecified organism                                     480\n",
       "G43.909   Migraine, unsp, not intractable, without status migrainosus      466\n",
       "X58.XXXA  Exposure to other specified factors, initial encounter           464\n",
       "R00.0     Tachycardia, unspecified                                         461\n",
       "R53.1     Weakness                                                         447\n",
       "I48.0     Paroxysmal atrial fibrillation                                   428\n",
       "Z66       Do not resuscitate                                               417\n",
       "M10.9     Gout, unspecified                                                401\n",
       "R09.02    Hypoxemia                                                        387\n",
       "E78.00    PURE HYPERCHOLESTEROLEMIA, UNSPECIFIED                           384\n",
       "N39.0     Urinary tract infection, site not specified                      359\n",
       "D50.9     Iron deficiency anemia, unspecified                              355\n",
       "dtype: int64"
      ]
     },
     "execution_count": 77,
     "metadata": {},
     "output_type": "execute_result"
    }
   ],
   "source": [
    "diagnoses.value_counts()[:50]"
   ]
  },
  {
   "cell_type": "code",
   "execution_count": 78,
   "metadata": {},
   "outputs": [
    {
     "data": {
      "text/plain": [
       "9826"
      ]
     },
     "execution_count": 78,
     "metadata": {},
     "output_type": "execute_result"
    }
   ],
   "source": [
    "num_of_admissions = len(inpatient_encounters['AdmtID'].unique())\n",
    "num_of_admissions"
   ]
  },
  {
   "cell_type": "code",
   "execution_count": 116,
   "metadata": {},
   "outputs": [],
   "source": [
    "hosp_id_chunk_one = inpatient_encounters[inpatient_encounters['Rel_Discharge_Day'] < 3]['HospID'].astype('str')\n",
    "hosp_id_chunk_two = inpatient_encounters[(inpatient_encounters['Rel_Discharge_Day'] >= 3)\n",
    "                                         & (inpatient_encounters['Rel_Discharge_Day'] < 10)]['HospID'].astype('str')\n",
    "hosp_id_chunk_three = inpatient_encounters[inpatient_encounters['Rel_Discharge_Day'] >= 10]['HospID'].astype('str')\n",
    "number_of_ids = len(hosp_id_chunk_one.unique())"
   ]
  },
  {
   "cell_type": "code",
   "execution_count": 130,
   "metadata": {},
   "outputs": [
    {
     "data": {
      "text/plain": [
       "<matplotlib.legend.Legend at 0x7ff7e0bebdf0>"
      ]
     },
     "execution_count": 130,
     "metadata": {},
     "output_type": "execute_result"
    },
    {
     "data": {
      "image/png": "[encoded data removed]",
      "text/plain": [
       "<Figure size 432x288 with 1 Axes>"
      ]
     },
     "metadata": {
      "needs_background": "light"
     },
     "output_type": "display_data"
    }
   ],
   "source": [
    "plt.hist(hosp_id_chunk_one, number_of_ids, density=True, alpha = 0.3, label='0-3')\n",
    "plt.hist(hosp_id_chunk_two, number_of_ids, density=True, alpha = 0.3, label='3-10')\n",
    "plt.hist(hosp_id_chunk_three, number_of_ids, density=True, alpha = 0.3, label='10')\n",
    "plt.legend(loc='upper right')"
   ]
  },
  {
   "cell_type": "code",
   "execution_count": 124,
   "metadata": {},
   "outputs": [],
   "source": [
    "query = \"\"\"\n",
    "select  me.\"Rel_Discharge_Day\", md.\"Sex\" , md.\"Race1\" \n",
    "from ms_encounters me \n",
    "inner join ms_demographicss md \n",
    "on me.\"AdmtID\" = md.\"AdmtID\" \n",
    "where me.\"EncType\" = 'I'\n",
    "\"\"\"\n",
    "\n",
    "demographic_features = pd.read_sql_query(query, engine)"
   ]
  },
  {
   "cell_type": "code",
   "execution_count": 126,
   "metadata": {},
   "outputs": [],
   "source": [
    "def chunk_features(df):\n",
    "    chunk_one = df[df['Rel_Discharge_Day'] < 3]\n",
    "    chunk_two = df[(df['Rel_Discharge_Day'] >= 3) & (df['Rel_Discharge_Day'] < 10)]\n",
    "    chunk_three = df[df['Rel_Discharge_Day'] >= 10]\n",
    "    \n",
    "    return (chunk_one, chunk_two, chunk_three)"
   ]
  },
  {
   "cell_type": "code",
   "execution_count": 127,
   "metadata": {},
   "outputs": [],
   "source": [
    "demographic_features_chunk_one, demographic_features_chunk_two, demographic_features_chunk_three = chunk_features(demographic_features)"
   ]
  },
  {
   "cell_type": "code",
   "execution_count": 131,
   "metadata": {},
   "outputs": [
    {
     "data": {
      "text/plain": [
       "<matplotlib.legend.Legend at 0x7ff7f4eacb50>"
      ]
     },
     "execution_count": 131,
     "metadata": {},
     "output_type": "execute_result"
    },
    {
     "data": {
      "image/png": "[encoded data removed]",
      "text/plain": [
       "<Figure size 432x288 with 1 Axes>"
      ]
     },
     "metadata": {
      "needs_background": "light"
     },
     "output_type": "display_data"
    }
   ],
   "source": [
    "plt.hist(demographic_features_chunk_one['Sex'], density=True, alpha=0.3, label='0-3')\n",
    "plt.hist(demographic_features_chunk_two['Sex'], density=True, alpha=0.3, label='3-10')\n",
    "plt.hist(demographic_features_chunk_three['Sex'], density=True, alpha=0.3, label='10+')\n",
    "plt.legend()"
   ]
  },
  {
   "cell_type": "code",
   "execution_count": 151,
   "metadata": {},
   "outputs": [
    {
     "data": {
      "image/png": "[encoded data removed]",
      "text/plain": [
       "<Figure size 432x288 with 1 Axes>"
      ]
     },
     "metadata": {
      "needs_background": "light"
     },
     "output_type": "display_data"
    }
   ],
   "source": [
    "chunk_and_plot(demographic_features, 'Race1')"
   ]
  },
  {
   "cell_type": "code",
   "execution_count": 133,
   "metadata": {},
   "outputs": [],
   "source": [
    "query = \"\"\"\n",
    "select  me.\"Rel_Discharge_Day\", me.\"Payer_Type\" \n",
    "from ms_encounters me \n",
    "where me.\"EncType\" = 'I'\n",
    "\"\"\"\n",
    "\n",
    "payer_types = pd.read_sql_query(query, engine)"
   ]
  },
  {
   "cell_type": "code",
   "execution_count": 135,
   "metadata": {},
   "outputs": [],
   "source": [
    "payers_one, payers_two, payers_three = chunk_features(payer_types)"
   ]
  },
  {
   "cell_type": "code",
   "execution_count": 166,
   "metadata": {},
   "outputs": [],
   "source": [
    "def plot_overlapping_histogram(df_one, df_two, df_three, column):\n",
    "    bins = max(len(df_one[column].unique()), len(df_two[column].unique()), len(df_three[column].unique()))\n",
    "    plt.hist(df_one[column], bins, density=True, alpha=0.33, label='0-3')\n",
    "    plt.hist(df_two[column], bins, density=True, alpha=0.33, label='3-10')\n",
    "    plt.hist(df_three[column], bins, density=True, alpha=0.33, label='10+')\n",
    "    plt.title(column)\n",
    "    plt.legend()\n",
    "    plt.show()"
   ]
  },
  {
   "cell_type": "code",
   "execution_count": 167,
   "metadata": {},
   "outputs": [],
   "source": [
    "def chunk_and_plot(df, column):\n",
    "    chunk_one, chunk_two, chunk_three = chunk_features(df)\n",
    "    plot_overlapping_histogram(chunk_one, chunk_two, chunk_three, column)"
   ]
  },
  {
   "cell_type": "code",
   "execution_count": 150,
   "metadata": {},
   "outputs": [
    {
     "data": {
      "image/png": "[encoded data removed]",
      "text/plain": [
       "<Figure size 864x288 with 1 Axes>"
      ]
     },
     "metadata": {
      "needs_background": "light"
     },
     "output_type": "display_data"
    }
   ],
   "source": [
    "plt.figure(figsize=(12, 4))\n",
    "plt.xticks(rotation=90)\n",
    "chunk_and_plot(payer_types, 'Payer_Type')"
   ]
  },
  {
   "cell_type": "code",
   "execution_count": 153,
   "metadata": {},
   "outputs": [],
   "source": [
    "query = \"\"\"\n",
    "select  me.\"Rel_Discharge_Day\", md.\"OrigDX\"\n",
    "from ms_encounters me \n",
    "join ms_diagnosis md\n",
    "on me.\"AdmtID\" = md.\"AdmtID\" \n",
    "where me.\"EncType\" = 'I'\n",
    "\"\"\"\n",
    "\n",
    "dx = pd.read_sql_query(query, engine)"
   ]
  },
  {
   "cell_type": "code",
   "execution_count": 160,
   "metadata": {},
   "outputs": [
    {
     "data": {
      "image/png": "[encoded data removed]",
      "text/plain": [
       "<Figure size 432x288 with 1 Axes>"
      ]
     },
     "metadata": {
      "needs_background": "light"
     },
     "output_type": "display_data"
    }
   ],
   "source": [
    "def mark_diagnosis(row, diagnosis):\n",
    "    if row['OrigDX'] == diagnosis:\n",
    "        return 'Has'\n",
    "    else:\n",
    "        return \"Hasn't\"\n",
    "\n",
    "dx['has_hypertension'] = dx.apply(lambda row: mark_diagnosis(row, 'I10'), axis=1)\n",
    "chunk_and_plot(dx, 'has_hypertension')"
   ]
  },
  {
   "cell_type": "code",
   "execution_count": 170,
   "metadata": {},
   "outputs": [
    {
     "data": {
      "image/png": "[encoded data removed]",
      "text/plain": [
       "<Figure size 432x288 with 1 Axes>"
      ]
     },
     "metadata": {
      "needs_background": "light"
     },
     "output_type": "display_data"
    },
    {
     "data": {
      "image/png": "[encoded data removed]",
      "text/plain": [
       "<Figure size 432x288 with 1 Axes>"
      ]
     },
     "metadata": {
      "needs_background": "light"
     },
     "output_type": "display_data"
    },
    {
     "data": {
      "image/png": "[encoded data removed]",
      "text/plain": [
       "<Figure size 432x288 with 1 Axes>"
      ]
     },
     "metadata": {
      "needs_background": "light"
     },
     "output_type": "display_data"
    },
    {
     "data": {
      "image/png": "[encoded data removed]",
      "text/plain": [
       "<Figure size 432x288 with 1 Axes>"
      ]
     },
     "metadata": {
      "needs_background": "light"
     },
     "output_type": "display_data"
    },
    {
     "data": {
      "image/png": "[encoded data removed]",
      "text/plain": [
       "<Figure size 432x288 with 1 Axes>"
      ]
     },
     "metadata": {
      "needs_background": "light"
     },
     "output_type": "display_data"
    },
    {
     "data": {
      "image/png": "[encoded data removed]",
      "text/plain": [
       "<Figure size 432x288 with 1 Axes>"
      ]
     },
     "metadata": {
      "needs_background": "light"
     },
     "output_type": "display_data"
    },
    {
     "data": {
      "image/png": "[encoded data removed]",
      "text/plain": [
       "<Figure size 432x288 with 1 Axes>"
      ]
     },
     "metadata": {
      "needs_background": "light"
     },
     "output_type": "display_data"
    },
    {
     "data": {
      "image/png": "[encoded data removed]",
      "text/plain": [
       "<Figure size 432x288 with 1 Axes>"
      ]
     },
     "metadata": {
      "needs_background": "light"
     },
     "output_type": "display_data"
    }
   ],
   "source": [
    "diagnoses = ['I10', 'E78.5', 'E11.9', 'I25.10', 'J44.9', 'I12.9', 'Y83.8', 'A41.9']\n",
    "\n",
    "for diagnosis in diagnoses:\n",
    "    label = f\"has_{diagnosis}\"\n",
    "    dx[label] = dx.apply(lambda row: mark_diagnosis(row,  diagnosis), axis=1)\n",
    "    chunk_and_plot(dx, label)"
   ]
  },
  {
   "cell_type": "code",
   "execution_count": null,
   "metadata": {},
   "outputs": [],
   "source": []
  }
 ],
 "metadata": {
  "kernelspec": {
   "display_name": "Python 3",
   "language": "python",
   "name": "python3"
  },
  "language_info": {
   "codemirror_mode": {
    "name": "ipython",
    "version": 3
   },
   "file_extension": ".py",
   "mimetype": "text/x-python",
   "name": "python",
   "nbconvert_exporter": "python",
   "pygments_lexer": "ipython3",
   "version": "3.8.3"
  }
 },
 "nbformat": 4,
 "nbformat_minor": 4
}
